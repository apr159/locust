{
 "cells": [
  {
   "cell_type": "code",
   "execution_count": 2,
   "metadata": {},
   "outputs": [],
   "source": [
    "import ee\n",
    "import numpy as np\n",
    "import pandas as pd"
   ]
  },
  {
   "cell_type": "code",
   "execution_count": 3,
   "metadata": {},
   "outputs": [
    {
     "data": {
      "text/plain": [
       "True"
      ]
     },
     "execution_count": 3,
     "metadata": {},
     "output_type": "execute_result"
    }
   ],
   "source": [
    "ee.Authenticate()\n"
   ]
  },
  {
   "cell_type": "code",
   "execution_count": 4,
   "metadata": {},
   "outputs": [
    {
     "name": "stdout",
     "output_type": "stream",
     "text": [
      "Hello from the Earth Engine servers!\n"
     ]
    }
   ],
   "source": [
    "ee.Initialize(project='ee-apr160')\n",
    "print(ee.String('Hello from the Earth Engine servers!').getInfo())"
   ]
  },
  {
   "cell_type": "code",
   "execution_count": null,
   "metadata": {},
   "outputs": [],
   "source": [
    "#df_data = pd.read_csv('data/2023.csv',encoding = \"ISO-8859-1\")\n",
    "#df_data = df_data[['Latitud','Longitud']].drop_duplicates().reset_index(drop=True)\n",
    "#df_data = df_data.iloc[1628:]\n",
    "#df_data = pd.read_csv('missing.csv',encoding = \"ISO-8859-1\")\n",
    "df_data = pd.read_csv('data/missing.csv',encoding = \"ISO-8859-1\")\n",
    "df_data\n"
   ]
  },
  {
   "cell_type": "code",
   "execution_count": 9,
   "metadata": {},
   "outputs": [],
   "source": [
    "def add_date(image):\n",
    "    img_date = ee.Date(image.date())\n",
    "    img_date = ee.Number.parse(img_date.format('YYYYMMdd'))\n",
    "    return image.addBands(ee.Image(img_date).rename('date').toInt())\n",
    "\n",
    "def save_coordinate(Sentinel_data,main_folder, row, feature_list,name_folder,src_data):\n",
    "    features = []\n",
    "    poi_geometry = ee.Geometry.Point([row['Longitud'], row['Latitud']])\n",
    "    poi_properties = dict(row)\n",
    "    poi_feature = ee.Feature(poi_geometry, poi_properties)\n",
    "    features.append(poi_feature)\n",
    "    ee_fc = ee.FeatureCollection(features) \n",
    "\n",
    "\n",
    "    def rasterExtraction(image):\n",
    "        feature = image.sampleRegions(\n",
    "            collection = ee_fc, # feature collection here\n",
    "            scale = 10 # Cell size of raster\n",
    "        )\n",
    "        return feature\n",
    "    \n",
    "    results = Sentinel_data.filterBounds(ee_fc).select(feature_list).map(add_date).map(rasterExtraction).flatten()\n",
    "\n",
    "    # You can modify this for better optimization\n",
    "    column_df = list(src_data.columns)\n",
    "    column_df.extend(feature_list + ['date'])\n",
    "    \n",
    "    nested_list = results.reduceColumns(ee.Reducer.toList(len(column_df)), column_df).values().get(0)\n",
    "    data = nested_list.getInfo()\n",
    "    df_final = pd.DataFrame(data,columns=column_df)\n",
    "    df_final = df_final.groupby([\"date\",\"Latitud\",\"Longitud\"]).agg(\n",
    "                Psurf_f_inst=('Psurf_f_inst', 'mean'),\n",
    "                Qair_f_inst=('Qair_f_inst', 'mean'),\n",
    "                Rainf_tavg=('Rainf_tavg', 'mean'),\n",
    "                Tair_f_inst=('Rainf_tavg', 'mean'),\n",
    "                Wind_f_inst=('Wind_f_inst', 'mean'),\n",
    "                RootMoist_inst=('RootMoist_inst', 'mean')) \\\n",
    "                .reset_index()\n",
    "               \n",
    "\n",
    "    df_final.to_csv(main_folder+name_folder+'/' + str(row['Latitud']) + '_' + str(row['Longitud']) + '.csv', mode='a')\n",
    "   \n",
    "\n",
    "def get_data(main_folder, source,from_date,to_date,feature,name_folder, src_data):\n",
    "    Sentinel_data = ee.ImageCollection(source) \\\n",
    "    .filterDate(from_date,to_date) \\\n",
    "    .map(add_date)\n",
    "\n",
    "    for index, row in src_data.iterrows():\n",
    "        save_coordinate(Sentinel_data,main_folder, row,feature,name_folder,src_data)\n",
    "        print('.',end='')"
   ]
  },
  {
   "cell_type": "code",
   "execution_count": 5,
   "metadata": {},
   "outputs": [],
   "source": [
    "data = pd.read_csv('data/list_points.csv')"
   ]
  },
  {
   "cell_type": "code",
   "execution_count": 11,
   "metadata": {},
   "outputs": [
    {
     "name": "stdout",
     "output_type": "stream",
     "text": [
      "........................................................................................................................................................................................................................................................................................................................................................................................................................................................................................................................................................................................................................................................................................................................................................................................................................................................................................................................................................................................................................................"
     ]
    }
   ],
   "source": [
    "\n",
    "get_data('gee-coordinates/','NASA/ORNL/DAYMET_V4',\"2021-09-20\",\"2022-12-31\",['prcp','srad','tmax','tmin','vp'],'DAYMET_V4',data)"
   ]
  },
  {
   "cell_type": "code",
   "execution_count": 10,
   "metadata": {},
   "outputs": [
    {
     "name": "stdout",
     "output_type": "stream",
     "text": [
      "....................."
     ]
    }
   ],
   "source": [
    "get_data('gee-coordinates/','NASA/GLDAS/V021/NOAH/G025/T3H',\"2021-09-20\",\"2022-12-31\",['Psurf_f_inst','Qair_f_inst','Rainf_tavg','RootMoist_inst','Tair_f_inst','Wind_f_inst'],'SOIL',data)\n"
   ]
  },
  {
   "cell_type": "code",
   "execution_count": null,
   "metadata": {},
   "outputs": [],
   "source": [
    "get_data('IDAHO_EPSCOR/GRIDMET',\"2021-09-20\",\"2022-12-31\",['pr','sph','th','vs'],'IDAHO_EPSCOR')"
   ]
  }
 ],
 "metadata": {
  "kernelspec": {
   "display_name": ".venv",
   "language": "python",
   "name": "python3"
  },
  "language_info": {
   "codemirror_mode": {
    "name": "ipython",
    "version": 3
   },
   "file_extension": ".py",
   "mimetype": "text/x-python",
   "name": "python",
   "nbconvert_exporter": "python",
   "pygments_lexer": "ipython3",
   "version": "3.11.9"
  }
 },
 "nbformat": 4,
 "nbformat_minor": 2
}
