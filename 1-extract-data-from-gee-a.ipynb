{
 "cells": [
  {
   "cell_type": "code",
   "execution_count": 1,
   "metadata": {},
   "outputs": [],
   "source": [
    "import ee\n",
    "import numpy as np\n",
    "import pandas as pd"
   ]
  },
  {
   "cell_type": "code",
   "execution_count": 2,
   "metadata": {},
   "outputs": [
    {
     "data": {
      "text/plain": [
       "True"
      ]
     },
     "execution_count": 2,
     "metadata": {},
     "output_type": "execute_result"
    }
   ],
   "source": [
    "ee.Authenticate()\n"
   ]
  },
  {
   "cell_type": "code",
   "execution_count": 3,
   "metadata": {},
   "outputs": [
    {
     "name": "stdout",
     "output_type": "stream",
     "text": [
      "Hello from the Earth Engine servers!\n"
     ]
    }
   ],
   "source": [
    "ee.Initialize(project='ee-apr160')\n",
    "print(ee.String('Hello from the Earth Engine servers!').getInfo())"
   ]
  },
  {
   "cell_type": "code",
   "execution_count": 4,
   "metadata": {},
   "outputs": [
    {
     "data": {
      "text/html": [
       "<div>\n",
       "<style scoped>\n",
       "    .dataframe tbody tr th:only-of-type {\n",
       "        vertical-align: middle;\n",
       "    }\n",
       "\n",
       "    .dataframe tbody tr th {\n",
       "        vertical-align: top;\n",
       "    }\n",
       "\n",
       "    .dataframe thead th {\n",
       "        text-align: right;\n",
       "    }\n",
       "</style>\n",
       "<table border=\"1\" class=\"dataframe\">\n",
       "  <thead>\n",
       "    <tr style=\"text-align: right;\">\n",
       "      <th></th>\n",
       "      <th>Latitud</th>\n",
       "      <th>Longitud</th>\n",
       "    </tr>\n",
       "  </thead>\n",
       "  <tbody>\n",
       "    <tr>\n",
       "      <th>0</th>\n",
       "      <td>21.51200</td>\n",
       "      <td>-87.89104</td>\n",
       "    </tr>\n",
       "    <tr>\n",
       "      <th>1</th>\n",
       "      <td>21.27910</td>\n",
       "      <td>-89.26435</td>\n",
       "    </tr>\n",
       "    <tr>\n",
       "      <th>2</th>\n",
       "      <td>21.50130</td>\n",
       "      <td>-88.12003</td>\n",
       "    </tr>\n",
       "    <tr>\n",
       "      <th>3</th>\n",
       "      <td>21.50140</td>\n",
       "      <td>-88.28179</td>\n",
       "    </tr>\n",
       "    <tr>\n",
       "      <th>4</th>\n",
       "      <td>21.51210</td>\n",
       "      <td>-88.21687</td>\n",
       "    </tr>\n",
       "    <tr>\n",
       "      <th>...</th>\n",
       "      <td>...</td>\n",
       "      <td>...</td>\n",
       "    </tr>\n",
       "    <tr>\n",
       "      <th>65</th>\n",
       "      <td>21.55655</td>\n",
       "      <td>-88.07202</td>\n",
       "    </tr>\n",
       "    <tr>\n",
       "      <th>66</th>\n",
       "      <td>21.56558</td>\n",
       "      <td>-88.09142</td>\n",
       "    </tr>\n",
       "    <tr>\n",
       "      <th>67</th>\n",
       "      <td>21.57153</td>\n",
       "      <td>-88.16399</td>\n",
       "    </tr>\n",
       "    <tr>\n",
       "      <th>68</th>\n",
       "      <td>21.57448</td>\n",
       "      <td>-88.11790</td>\n",
       "    </tr>\n",
       "    <tr>\n",
       "      <th>69</th>\n",
       "      <td>21.57588</td>\n",
       "      <td>-88.15464</td>\n",
       "    </tr>\n",
       "  </tbody>\n",
       "</table>\n",
       "<p>70 rows × 2 columns</p>\n",
       "</div>"
      ],
      "text/plain": [
       "     Latitud  Longitud\n",
       "0   21.51200 -87.89104\n",
       "1   21.27910 -89.26435\n",
       "2   21.50130 -88.12003\n",
       "3   21.50140 -88.28179\n",
       "4   21.51210 -88.21687\n",
       "..       ...       ...\n",
       "65  21.55655 -88.07202\n",
       "66  21.56558 -88.09142\n",
       "67  21.57153 -88.16399\n",
       "68  21.57448 -88.11790\n",
       "69  21.57588 -88.15464\n",
       "\n",
       "[70 rows x 2 columns]"
      ]
     },
     "execution_count": 4,
     "metadata": {},
     "output_type": "execute_result"
    }
   ],
   "source": [
    "#df_data = pd.read_csv('data/2023.csv',encoding = \"ISO-8859-1\")\n",
    "#df_data = df_data[['Latitud','Longitud']].drop_duplicates().reset_index(drop=True)\n",
    "#df_data = df_data.iloc[1628:]\n",
    "#df_data = pd.read_csv('missing.csv',encoding = \"ISO-8859-1\")\n",
    "df_data = pd.read_csv('data/missing.csv',encoding = \"ISO-8859-1\")\n",
    "df_data\n"
   ]
  },
  {
   "cell_type": "code",
   "execution_count": 5,
   "metadata": {},
   "outputs": [],
   "source": [
    "def add_date(image):\n",
    "    img_date = ee.Date(image.date())\n",
    "    img_date = ee.Number.parse(img_date.format('YYYYMMdd'))\n",
    "    return image.addBands(ee.Image(img_date).rename('date').toInt())\n",
    "\n",
    "def save_coordinate(Sentinel_data,row, feature_list,name_folder):\n",
    "    features = []\n",
    "    poi_geometry = ee.Geometry.Point([row['Longitud'], row['Latitud']])\n",
    "    poi_properties = dict(row)\n",
    "    poi_feature = ee.Feature(poi_geometry, poi_properties)\n",
    "    features.append(poi_feature)\n",
    "    ee_fc = ee.FeatureCollection(features) \n",
    "\n",
    "\n",
    "    def rasterExtraction(image):\n",
    "        feature = image.sampleRegions(\n",
    "            collection = ee_fc, # feature collection here\n",
    "            scale = 10 # Cell size of raster\n",
    "        )\n",
    "        return feature\n",
    "    \n",
    "    results = Sentinel_data.filterBounds(ee_fc).select(feature_list).map(add_date).map(rasterExtraction).flatten()\n",
    "\n",
    "    # You can modify this for better optimization\n",
    "    column_df = list(df_data.columns)\n",
    "    column_df.extend(feature_list + ['date'])\n",
    "    \n",
    "    nested_list = results.reduceColumns(ee.Reducer.toList(len(column_df)), column_df).values().get(0)\n",
    "    data = nested_list.getInfo()\n",
    "    df_final = pd.DataFrame(data,columns=column_df)\n",
    "    df_final = df_final.groupby([\"date\",\"Latitud\",\"Longitud\"]).agg(\n",
    "                Psurf_f_inst=('Psurf_f_inst', 'mean'),\n",
    "                Qair_f_inst=('Qair_f_inst', 'mean'),\n",
    "                Rainf_tavg=('Rainf_tavg', 'mean'),\n",
    "                Tair_f_inst=('Rainf_tavg', 'mean'),\n",
    "                Wind_f_inst=('Wind_f_inst', 'mean'),\n",
    "                RootMoist_inst=('RootMoist_inst', 'mean')) \\\n",
    "                .reset_index()\n",
    "               \n",
    "\n",
    "    df_final.to_csv('gee-coordinates-2023/'+name_folder+'/' + str(row['Latitud']) + '_' + str(row['Longitud']) + '.csv')\n",
    "   \n",
    "\n",
    "def get_data(source,from_date,to_date,feature,name_folder):\n",
    "    Sentinel_data = ee.ImageCollection(source) \\\n",
    "    .filterDate(from_date,to_date) \\\n",
    "    .map(add_date)\n",
    "\n",
    "    for index, row in df_data.iterrows():\n",
    "        save_coordinate(Sentinel_data,row,feature,name_folder)\n",
    "        print('.',end='')"
   ]
  },
  {
   "cell_type": "code",
   "execution_count": 16,
   "metadata": {},
   "outputs": [
    {
     "name": "stdout",
     "output_type": "stream",
     "text": [
      "........................................................................................................................................................................................................................................................................................................................................................................................................................................................................................................................................................................................................................................................................................................................................................................................................................................................................................................................................................................................................................................................................................................................................................................................................................................................................................................................................................................................................................................................................................................................................................................................................................................................................................................................................................................................................................................................................................................................................................................................................................................................................................................................................................................................................................................................................................................................................................................."
     ]
    }
   ],
   "source": [
    "get_data('NASA/ORNL/DAYMET_V4',\"2022-09-20\",\"2023-12-31\",['prcp','srad','tmax','tmin','vp'],'DAYMET_V4')"
   ]
  },
  {
   "cell_type": "code",
   "execution_count": null,
   "metadata": {},
   "outputs": [],
   "source": [
    "get_data('IDAHO_EPSCOR/GRIDMET',\"2021-09-20\",\"2022-12-31\",['pr','sph','th','vs'],'IDAHO_EPSCOR')"
   ]
  },
  {
   "cell_type": "code",
   "execution_count": 6,
   "metadata": {},
   "outputs": [
    {
     "name": "stdout",
     "output_type": "stream",
     "text": [
      "......................................................................"
     ]
    }
   ],
   "source": [
    "get_data('NASA/GLDAS/V021/NOAH/G025/T3H',\"2022-09-20\",\"2023-12-31\",['Psurf_f_inst','Qair_f_inst','Rainf_tavg','RootMoist_inst','Tair_f_inst','Wind_f_inst'],'SOIL')\n"
   ]
  }
 ],
 "metadata": {
  "kernelspec": {
   "display_name": ".venv",
   "language": "python",
   "name": "python3"
  },
  "language_info": {
   "codemirror_mode": {
    "name": "ipython",
    "version": 3
   },
   "file_extension": ".py",
   "mimetype": "text/x-python",
   "name": "python",
   "nbconvert_exporter": "python",
   "pygments_lexer": "ipython3",
   "version": "3.11.9"
  }
 },
 "nbformat": 4,
 "nbformat_minor": 2
}
