{
 "cells": [
  {
   "cell_type": "code",
   "execution_count": 1,
   "metadata": {},
   "outputs": [],
   "source": [
    "import pandas as pd\n",
    "import numpy as np"
   ]
  },
  {
   "cell_type": "code",
   "execution_count": 2,
   "metadata": {},
   "outputs": [],
   "source": [
    "variables = ['MCD15A3H-061','MOD11A1-061','MOD13Q1-061','SPL4SMGP-006']\n",
    "columns = [['Latitude','Longitude','Date','MCD15A3H_061_Lai_500m','MCD15A3H_061_FparExtra_QC'],\n",
    "           ['Latitude','Longitude','Date','MOD11A1_061_LST_Day_1km','MOD11A1_061_LST_Night_1km'],\n",
    "           ['Latitude','Longitude','Date','MOD13Q1_061__250m_16_days_NDVI'],\n",
    "           ['Latitude','Longitude','Date','SPL4SMGP_006_Geophysical_Data_sm_rootzone_0'],\n",
    "           ]\n",
    "\n",
    "for variable,col in zip(variables,columns):\n",
    "    part1 = pd.read_csv('nasa-raw/2022-1/2022-1-' + variable + '-results.csv')            \n",
    "    part2 = pd.read_csv('nasa-raw/2022-2/2022-2-' + variable + '-results.csv')            \n",
    "    part3 = pd.read_csv('nasa-raw/2022-3/2022-3-' + variable + '-results.csv')            \n",
    "    part4 = pd.read_csv('nasa-raw/2022-4/2022-4-' + variable + '-results.csv')            \n",
    "    df = pd.concat([part1,part2,part3,part4],axis=0)\n",
    "    df = df[col]\n",
    "    elements = [v for k, v in df.groupby(['Latitude','Longitude'])]\n",
    "    for element in elements:\n",
    "        element['Date'] = pd.to_datetime(element['Date'],format='%Y-%m-%d')\n",
    "        out = element.set_index('Date').asfreq('D', method='ffill').reset_index()\n",
    "        out.to_csv('nasa-coordinates/' + variable + '/' + str(element.iloc[0]['Latitude']) + '_'+ str(element.iloc[0]['Longitude']) + '.csv')\n",
    "\n",
    "    #df.to_csv('nasa-full/' + variable + '.csv')"
   ]
  }
 ],
 "metadata": {
  "kernelspec": {
   "display_name": ".venv",
   "language": "python",
   "name": "python3"
  },
  "language_info": {
   "codemirror_mode": {
    "name": "ipython",
    "version": 3
   },
   "file_extension": ".py",
   "mimetype": "text/x-python",
   "name": "python",
   "nbconvert_exporter": "python",
   "pygments_lexer": "ipython3",
   "version": "3.11.9"
  }
 },
 "nbformat": 4,
 "nbformat_minor": 2
}
