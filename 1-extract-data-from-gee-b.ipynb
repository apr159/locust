{
 "cells": [
  {
   "cell_type": "code",
   "execution_count": 2,
   "metadata": {},
   "outputs": [],
   "source": [
    "import ee\n",
    "import numpy as np\n",
    "import pandas as pd"
   ]
  },
  {
   "cell_type": "code",
   "execution_count": 3,
   "metadata": {},
   "outputs": [
    {
     "data": {
      "text/html": [
       "<p>To authorize access needed by Earth Engine, open the following\n",
       "        URL in a web browser and follow the instructions:</p>\n",
       "        <p><a href=https://code.earthengine.google.com/client-auth?scopes=https%3A//www.googleapis.com/auth/earthengine%20https%3A//www.googleapis.com/auth/cloud-platform%20https%3A//www.googleapis.com/auth/devstorage.full_control&request_id=VcO6WTl7Qx1tAOsrzJ0uYmbQG5wZjipnGtKCTg6ye0c&tc=my4ss1x6W3Di57xnZJ1NadUvUxYmGdAg2ZySg0FV5ng&cc=tcdpmCcZMqmcVdMFW1bFMkCxpUyr1ZchmSkg2HXiKW8>https://code.earthengine.google.com/client-auth?scopes=https%3A//www.googleapis.com/auth/earthengine%20https%3A//www.googleapis.com/auth/cloud-platform%20https%3A//www.googleapis.com/auth/devstorage.full_control&request_id=VcO6WTl7Qx1tAOsrzJ0uYmbQG5wZjipnGtKCTg6ye0c&tc=my4ss1x6W3Di57xnZJ1NadUvUxYmGdAg2ZySg0FV5ng&cc=tcdpmCcZMqmcVdMFW1bFMkCxpUyr1ZchmSkg2HXiKW8</a></p>\n",
       "        <p>The authorization workflow will generate a code, which you should paste in the box below.</p>\n",
       "        "
      ],
      "text/plain": [
       "<IPython.core.display.HTML object>"
      ]
     },
     "metadata": {},
     "output_type": "display_data"
    },
    {
     "name": "stdout",
     "output_type": "stream",
     "text": [
      "\n",
      "Successfully saved authorization token.\n"
     ]
    }
   ],
   "source": [
    "ee.Authenticate()\n"
   ]
  },
  {
   "cell_type": "code",
   "execution_count": 4,
   "metadata": {},
   "outputs": [
    {
     "name": "stdout",
     "output_type": "stream",
     "text": [
      "Hello from the Earth Engine servers!\n"
     ]
    }
   ],
   "source": [
    "ee.Initialize(project='ee-apr160')\n",
    "print(ee.String('Hello from the Earth Engine servers!').getInfo())"
   ]
  },
  {
   "cell_type": "code",
   "execution_count": 16,
   "metadata": {},
   "outputs": [],
   "source": [
    "df_data = pd.read_csv('data/2023.csv',encoding = \"ISO-8859-1\")\n",
    "df_data = df_data[['Latitud','Longitud']].drop_duplicates().reset_index(drop=True)\n",
    "df_data = df_data.iloc[2014:]\n",
    "\n",
    "df_data.to_csv('points.csv')"
   ]
  },
  {
   "cell_type": "code",
   "execution_count": 12,
   "metadata": {},
   "outputs": [],
   "source": [
    "def add_date(image):\n",
    "    img_date = ee.Date(image.date())\n",
    "    img_date = ee.Number.parse(img_date.format('YYYYMMdd'))\n",
    "    return image.addBands(ee.Image(img_date).rename('date').toInt())\n",
    "\n",
    "def save_coordinate(Sentinel_data,row, feature):\n",
    "    features = []\n",
    "    poi_geometry = ee.Geometry.Point([row['Longitud'], row['Latitud']])\n",
    "    poi_properties = dict(row)\n",
    "    poi_feature = ee.Feature(poi_geometry, poi_properties)\n",
    "    features.append(poi_feature)\n",
    "    ee_fc = ee.FeatureCollection(features) \n",
    "\n",
    "\n",
    "    def rasterExtraction(image):\n",
    "        feature = image.sampleRegions(\n",
    "            collection = ee_fc, # feature collection here\n",
    "            scale = 10 # Cell size of raster\n",
    "        )\n",
    "        return feature\n",
    "    \n",
    "    results = Sentinel_data.filterBounds(ee_fc).select(feature).map(add_date).map(rasterExtraction).flatten()\n",
    "\n",
    "    # You can modify this for better optimization\n",
    "    column_df = list(df_data.columns)\n",
    "    column_df.extend([feature, 'date'])\n",
    "    \n",
    "    nested_list = results.reduceColumns(ee.Reducer.toList(len(column_df)), column_df).values().get(0)\n",
    "    data = nested_list.getInfo()\n",
    "    df_final = pd.DataFrame(data,columns=column_df)\n",
    "    df_final['date'] = pd.to_datetime(df_final['date'],format='%Y%m%d')  \n",
    "    df_final = df_final.set_index('date').asfreq('D', method='ffill').reset_index()\n",
    "    df_final.to_csv('gee-coordinates-2023/'+feature+'/' + str(row['Latitud']) + '_' + str(row['Longitud']) + '.csv')\n",
    "   \n",
    "\n",
    "def get_data(source,from_date,to_date,feature):\n",
    "    Sentinel_data = ee.ImageCollection(source) \\\n",
    "    .filterDate(from_date,to_date) \\\n",
    "    .map(add_date)\n",
    "\n",
    "    for index, row in df_data.iterrows():\n",
    "        save_coordinate(Sentinel_data,row,feature)\n",
    "        print('.',end='')"
   ]
  },
  {
   "cell_type": "code",
   "execution_count": 9,
   "metadata": {},
   "outputs": [
    {
     "name": "stdout",
     "output_type": "stream",
     "text": [
      "........................................................................................................................................................................................................................................................................................................................................................................................................................................................................................................................................................................................................................................................................................................................................................................................................................................................................................................................................................................................................................................................................................................................................................................................................................................................................................................................................................................................................................................................................................................................................................................................................................................................................................................................................................................................................................................................................................................................................................................................................................................................................................................................................................................................................................................................................................................................................................................."
     ]
    }
   ],
   "source": [
    "get_data('MODIS/061/MYD13Q1',\"2022-09-04\",\"2023-12-31\",'NDVI')"
   ]
  },
  {
   "cell_type": "code",
   "execution_count": 17,
   "metadata": {},
   "outputs": [
    {
     "name": "stdout",
     "output_type": "stream",
     "text": [
      "..........................................................................................................................................................................................................................................................................."
     ]
    }
   ],
   "source": [
    "get_data('MODIS/061/MOD11A1',\"2022-09-04\",\"2023-12-31\",'LST_Day_1km')\n"
   ]
  },
  {
   "cell_type": "code",
   "execution_count": null,
   "metadata": {},
   "outputs": [],
   "source": []
  }
 ],
 "metadata": {
  "kernelspec": {
   "display_name": ".venv",
   "language": "python",
   "name": "python3"
  },
  "language_info": {
   "codemirror_mode": {
    "name": "ipython",
    "version": 3
   },
   "file_extension": ".py",
   "mimetype": "text/x-python",
   "name": "python",
   "nbconvert_exporter": "python",
   "pygments_lexer": "ipython3",
   "version": "3.11.9"
  }
 },
 "nbformat": 4,
 "nbformat_minor": 2
}
