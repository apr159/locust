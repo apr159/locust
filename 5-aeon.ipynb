{
 "cells": [
  {
   "cell_type": "code",
   "execution_count": 2,
   "metadata": {},
   "outputs": [],
   "source": [
    "import aeon\n",
    "from aeon.datasets import load_from_tsfile"
   ]
  },
  {
   "cell_type": "code",
   "execution_count": 6,
   "metadata": {},
   "outputs": [
    {
     "ename": "OSError",
     "evalue": "channel 1 in case 7 has a different number of observations to the other channels. Saw 96 in the first channel but 93 in the channel 1. The meta data specifies equal length == True. But even if series length are unequal, all channels for a single case must be the same length",
     "output_type": "error",
     "traceback": [
      "\u001b[0;31m---------------------------------------------------------------------------\u001b[0m",
      "\u001b[0;31mOSError\u001b[0m                                   Traceback (most recent call last)",
      "Cell \u001b[0;32mIn[6], line 1\u001b[0m\n\u001b[0;32m----> 1\u001b[0m X,y \u001b[38;5;241m=\u001b[39m \u001b[43mload_from_tsfile\u001b[49m\u001b[43m(\u001b[49m\u001b[38;5;124;43m'\u001b[39;49m\u001b[38;5;124;43m2022-dataset.ts\u001b[39;49m\u001b[38;5;124;43m'\u001b[39;49m\u001b[43m)\u001b[49m\n",
      "File \u001b[0;32m~/code/seder/locust/.venv/lib/python3.11/site-packages/aeon/datasets/_data_loaders.py:277\u001b[0m, in \u001b[0;36mload_from_tsfile\u001b[0;34m(full_file_path_and_name, replace_missing_vals_with, return_meta_data, return_type)\u001b[0m\n\u001b[1;32m    275\u001b[0m     meta_data \u001b[38;5;241m=\u001b[39m _load_header_info(file)\n\u001b[1;32m    276\u001b[0m     \u001b[38;5;66;03m# load into list of numpy\u001b[39;00m\n\u001b[0;32m--> 277\u001b[0m     data, y, meta_data \u001b[38;5;241m=\u001b[39m \u001b[43m_load_data\u001b[49m\u001b[43m(\u001b[49m\u001b[43mfile\u001b[49m\u001b[43m,\u001b[49m\u001b[43m \u001b[49m\u001b[43mmeta_data\u001b[49m\u001b[43m)\u001b[49m\n\u001b[1;32m    279\u001b[0m \u001b[38;5;66;03m# if equal load to 3D numpy\u001b[39;00m\n\u001b[1;32m    280\u001b[0m \u001b[38;5;28;01mif\u001b[39;00m meta_data[\u001b[38;5;124m\"\u001b[39m\u001b[38;5;124mequallength\u001b[39m\u001b[38;5;124m\"\u001b[39m]:\n",
      "File \u001b[0;32m~/code/seder/locust/.venv/lib/python3.11/site-packages/aeon/datasets/_data_loaders.py:213\u001b[0m, in \u001b[0;36m_load_data\u001b[0;34m(file, meta_data, replace_missing_vals_with)\u001b[0m\n\u001b[1;32m    211\u001b[0m     \u001b[38;5;28;01mif\u001b[39;00m \u001b[38;5;28mlen\u001b[39m(data_series) \u001b[38;5;241m!=\u001b[39m current_length:\n\u001b[1;32m    212\u001b[0m         equal_length \u001b[38;5;241m=\u001b[39m meta_data[\u001b[38;5;124m\"\u001b[39m\u001b[38;5;124mequallength\u001b[39m\u001b[38;5;124m\"\u001b[39m]\n\u001b[0;32m--> 213\u001b[0m         \u001b[38;5;28;01mraise\u001b[39;00m \u001b[38;5;167;01mOSError\u001b[39;00m(\n\u001b[1;32m    214\u001b[0m             \u001b[38;5;124mf\u001b[39m\u001b[38;5;124m\"\u001b[39m\u001b[38;5;124mchannel \u001b[39m\u001b[38;5;132;01m{\u001b[39;00mi\u001b[38;5;132;01m}\u001b[39;00m\u001b[38;5;124m in case \u001b[39m\u001b[38;5;132;01m{\u001b[39;00mn_cases\u001b[38;5;132;01m}\u001b[39;00m\u001b[38;5;124m has a different number of \u001b[39m\u001b[38;5;124m\"\u001b[39m\n\u001b[1;32m    215\u001b[0m             \u001b[38;5;124mf\u001b[39m\u001b[38;5;124m\"\u001b[39m\u001b[38;5;124mobservations to the other channels. \u001b[39m\u001b[38;5;124m\"\u001b[39m\n\u001b[1;32m    216\u001b[0m             \u001b[38;5;124mf\u001b[39m\u001b[38;5;124m\"\u001b[39m\u001b[38;5;124mSaw \u001b[39m\u001b[38;5;132;01m{\u001b[39;00mcurrent_length\u001b[38;5;132;01m}\u001b[39;00m\u001b[38;5;124m in the first channel but\u001b[39m\u001b[38;5;124m\"\u001b[39m\n\u001b[1;32m    217\u001b[0m             \u001b[38;5;124mf\u001b[39m\u001b[38;5;124m\"\u001b[39m\u001b[38;5;124m \u001b[39m\u001b[38;5;132;01m{\u001b[39;00m\u001b[38;5;28mlen\u001b[39m(data_series)\u001b[38;5;132;01m}\u001b[39;00m\u001b[38;5;124m in the channel \u001b[39m\u001b[38;5;132;01m{\u001b[39;00mi\u001b[38;5;132;01m}\u001b[39;00m\u001b[38;5;124m. The meta data \u001b[39m\u001b[38;5;124m\"\u001b[39m\n\u001b[1;32m    218\u001b[0m             \u001b[38;5;124mf\u001b[39m\u001b[38;5;124m\"\u001b[39m\u001b[38;5;124mspecifies equal length == \u001b[39m\u001b[38;5;132;01m{\u001b[39;00mequal_length\u001b[38;5;132;01m}\u001b[39;00m\u001b[38;5;124m. But even if series \u001b[39m\u001b[38;5;124m\"\u001b[39m\n\u001b[1;32m    219\u001b[0m             \u001b[38;5;124mf\u001b[39m\u001b[38;5;124m\"\u001b[39m\u001b[38;5;124mlength are unequal, all channels for a single case must be the \u001b[39m\u001b[38;5;124m\"\u001b[39m\n\u001b[1;32m    220\u001b[0m             \u001b[38;5;124mf\u001b[39m\u001b[38;5;124m\"\u001b[39m\u001b[38;5;124msame length\u001b[39m\u001b[38;5;124m\"\u001b[39m\n\u001b[1;32m    221\u001b[0m         )\n\u001b[1;32m    222\u001b[0m     np_case[i] \u001b[38;5;241m=\u001b[39m np\u001b[38;5;241m.\u001b[39marray(data_series)\n\u001b[1;32m    223\u001b[0m data\u001b[38;5;241m.\u001b[39mappend(np_case)\n",
      "\u001b[0;31mOSError\u001b[0m: channel 1 in case 7 has a different number of observations to the other channels. Saw 96 in the first channel but 93 in the channel 1. The meta data specifies equal length == True. But even if series length are unequal, all channels for a single case must be the same length"
     ]
    }
   ],
   "source": [
    "X,y = load_from_tsfile('2022-dataset.ts')"
   ]
  }
 ],
 "metadata": {
  "kernelspec": {
   "display_name": ".venv",
   "language": "python",
   "name": "python3"
  },
  "language_info": {
   "codemirror_mode": {
    "name": "ipython",
    "version": 3
   },
   "file_extension": ".py",
   "mimetype": "text/x-python",
   "name": "python",
   "nbconvert_exporter": "python",
   "pygments_lexer": "ipython3",
   "version": "3.11.9"
  }
 },
 "nbformat": 4,
 "nbformat_minor": 2
}
