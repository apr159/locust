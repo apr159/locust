{
 "cells": [
  {
   "cell_type": "code",
   "execution_count": 1,
   "metadata": {},
   "outputs": [],
   "source": [
    "import ee\n",
    "import numpy as np\n",
    "import pandas as pd"
   ]
  },
  {
   "cell_type": "markdown",
   "metadata": {},
   "source": [
    "Conectarse a GEE"
   ]
  },
  {
   "cell_type": "code",
   "execution_count": 2,
   "metadata": {},
   "outputs": [
    {
     "data": {
      "text/html": [
       "<p>To authorize access needed by Earth Engine, open the following\n",
       "        URL in a web browser and follow the instructions:</p>\n",
       "        <p><a href=https://code.earthengine.google.com/client-auth?scopes=https%3A//www.googleapis.com/auth/earthengine%20https%3A//www.googleapis.com/auth/cloud-platform%20https%3A//www.googleapis.com/auth/devstorage.full_control&request_id=nI4cGWzjOSJnA6u75-4qXWr7MOMnb9vLNInVq8F9Hdw&tc=52eRNChd5K04Xf1oIohCIcJZOAMbF6ZHasWMPiaQg7M&cc=wXGWVrxEqPGIyjDBP4ruViCsmxLE8vwZLFaEH-s7GLI>https://code.earthengine.google.com/client-auth?scopes=https%3A//www.googleapis.com/auth/earthengine%20https%3A//www.googleapis.com/auth/cloud-platform%20https%3A//www.googleapis.com/auth/devstorage.full_control&request_id=nI4cGWzjOSJnA6u75-4qXWr7MOMnb9vLNInVq8F9Hdw&tc=52eRNChd5K04Xf1oIohCIcJZOAMbF6ZHasWMPiaQg7M&cc=wXGWVrxEqPGIyjDBP4ruViCsmxLE8vwZLFaEH-s7GLI</a></p>\n",
       "        <p>The authorization workflow will generate a code, which you should paste in the box below.</p>\n",
       "        "
      ],
      "text/plain": [
       "<IPython.core.display.HTML object>"
      ]
     },
     "metadata": {},
     "output_type": "display_data"
    },
    {
     "name": "stdout",
     "output_type": "stream",
     "text": [
      "\n",
      "Successfully saved authorization token.\n",
      "Hello from the Earth Engine servers!\n"
     ]
    }
   ],
   "source": [
    "ee.Authenticate()\n",
    "ee.Initialize(project='ee-apr160')\n",
    "print(ee.String('Hello from the Earth Engine servers!').getInfo())"
   ]
  },
  {
   "cell_type": "markdown",
   "metadata": {},
   "source": [
    "Definir variables   "
   ]
  },
  {
   "cell_type": "code",
   "execution_count": 4,
   "metadata": {},
   "outputs": [],
   "source": [
    "year = 2020"
   ]
  },
  {
   "cell_type": "code",
   "execution_count": 5,
   "metadata": {},
   "outputs": [],
   "source": [
    "df_data = pd.read_csv(f'data/{year}.csv',encoding = \"ISO-8859-1\")\n",
    "df_data = df_data[['Latitud','Longitud']].drop_duplicates().reset_index(drop=True)\n",
    "df_data.to_csv(f'data/{year}-unique-points.csv')"
   ]
  },
  {
   "cell_type": "markdown",
   "metadata": {},
   "source": [
    "Definicion de funciones"
   ]
  },
  {
   "cell_type": "code",
   "execution_count": 7,
   "metadata": {},
   "outputs": [],
   "source": [
    "def add_date(image):\n",
    "    img_date = ee.Date(image.date())\n",
    "    img_date = ee.Number.parse(img_date.format('YYYYMMdd'))\n",
    "    return image.addBands(ee.Image(img_date).rename('date').toInt())\n",
    "\n",
    "def save_coordinate(Sentinel_data,row, feature):\n",
    "    features = []\n",
    "    poi_geometry = ee.Geometry.Point([row['Longitud'], row['Latitud']])\n",
    "    poi_properties = dict(row)\n",
    "    poi_feature = ee.Feature(poi_geometry, poi_properties)\n",
    "    features.append(poi_feature)\n",
    "    ee_fc = ee.FeatureCollection(features) \n",
    "\n",
    "\n",
    "    def rasterExtraction(image):\n",
    "        feature = image.sampleRegions(\n",
    "            collection = ee_fc, # feature collection here\n",
    "            scale = 10 # Cell size of raster\n",
    "        )\n",
    "        return feature\n",
    "    \n",
    "    results = Sentinel_data.filterBounds(ee_fc) \\\n",
    "            .select(feature).map(add_date) \\\n",
    "            .map(rasterExtraction) \\\n",
    "            .flatten()\n",
    "\n",
    "    # You can modify this for better optimization\n",
    "    column_df = list(df_data.columns)\n",
    "    column_df.extend([feature, 'date'])\n",
    "    \n",
    "    nested_list = results.reduceColumns(ee.Reducer.toList(len(column_df)), column_df).values().get(0)\n",
    "    data = nested_list.getInfo()\n",
    "    df_final = pd.DataFrame(data,columns=column_df)\n",
    "    \n",
    "    df_final.to_csv('coordinates/'+feature+'/' + str(row['Longitud']) + '_' + str(row['Latitud']) + '.csv')\n",
    "   \n",
    "\n",
    "def get_data(source,from_date,to_date,feature):\n",
    "    Sentinel_data = ee.ImageCollection(source) \\\n",
    "    .filterDate(from_date,to_date) \\\n",
    "    .map(add_date)\n",
    "\n",
    "    for index, row in df_data.iterrows():\n",
    "        save_coordinate(Sentinel_data,row,feature)\n",
    "        print('.',end='')"
   ]
  },
  {
   "cell_type": "code",
   "execution_count": 24,
   "metadata": {},
   "outputs": [],
   "source": [
    "get_data('NOAA/CDR/AVHRR/LAI_FAPAR/V5',\"2021-09-20\",\"2022-12-31\",'LAI')"
   ]
  }
 ],
 "metadata": {
  "kernelspec": {
   "display_name": ".venv",
   "language": "python",
   "name": "python3"
  },
  "language_info": {
   "codemirror_mode": {
    "name": "ipython",
    "version": 3
   },
   "file_extension": ".py",
   "mimetype": "text/x-python",
   "name": "python",
   "nbconvert_exporter": "python",
   "pygments_lexer": "ipython3",
   "version": "3.11.9"
  }
 },
 "nbformat": 4,
 "nbformat_minor": 2
}
