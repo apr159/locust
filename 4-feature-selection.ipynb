{
 "cells": [
  {
   "cell_type": "code",
   "execution_count": 2,
   "metadata": {},
   "outputs": [],
   "source": [
    "from sklearn.feature_selection import mutual_info_classif\n",
    "import matplotlib.pyplot as plt\n",
    "import pandas as pd"
   ]
  },
  {
   "cell_type": "code",
   "execution_count": 59,
   "metadata": {},
   "outputs": [
    {
     "data": {
      "text/plain": [
       "0        Negativo\n",
       "1        Negativo\n",
       "2        Negativo\n",
       "3        Negativo\n",
       "4        Negativo\n",
       "           ...   \n",
       "10279    Negativo\n",
       "10280    Negativo\n",
       "10281    Negativo\n",
       "10282    Negativo\n",
       "10283    Negativo\n",
       "Name: Resultado, Length: 10284, dtype: object"
      ]
     },
     "execution_count": 59,
     "metadata": {},
     "output_type": "execute_result"
    }
   ],
   "source": [
    "dataset = pd.read_csv('data/2022-feature-dataset.csv')\n",
    "#dataset['Resultado'] = dataset.apply(lambda row: 1.0 if row['Resultado'] == 'Positivo' else 0.0,axis=1)\n",
    "X = dataset.drop('Resultado',axis=1)\n",
    "y = dataset['Resultado']\n",
    "y"
   ]
  },
  {
   "cell_type": "code",
   "execution_count": 60,
   "metadata": {},
   "outputs": [],
   "source": [
    "from sklearn.impute import SimpleImputer\n",
    "\n",
    "\n",
    "imp = SimpleImputer(strategy=\"mean\")\n",
    "X_ = pd.DataFrame(imp.fit_transform(X), columns=X.columns)\n"
   ]
  },
  {
   "cell_type": "code",
   "execution_count": 5,
   "metadata": {},
   "outputs": [
    {
     "data": {
      "text/plain": [
       "array([0.01061137, 0.00068093, 0.00905811, 0.01087519, 0.00113901,\n",
       "       0.00811865, 0.00827278, 0.00087772, 0.00321861, 0.        ,\n",
       "       0.00174282, 0.        , 0.0025874 , 0.00763256, 0.00787916,\n",
       "       0.00215751, 0.06951882, 0.06505548, 0.07091702, 0.07126464,\n",
       "       0.06815266, 0.06824615, 0.06639267, 0.06533046, 0.06448436,\n",
       "       0.07141165, 0.0652387 , 0.06573255, 0.0687072 , 0.06373549,\n",
       "       0.06920053, 0.07251219, 0.06827367, 0.07095904, 0.07051638,\n",
       "       0.06340956, 0.0670664 , 0.07138734, 0.07015609, 0.06824153,\n",
       "       0.07005367, 0.0658983 , 0.06926785, 0.06464742, 0.07049766,\n",
       "       0.07154058, 0.07101247, 0.06928284, 0.07322471, 0.06860054,\n",
       "       0.06973934, 0.06802696, 0.06904787, 0.06347943, 0.06495729,\n",
       "       0.06607266, 0.06687172, 0.06858347, 0.06941816, 0.06666928,\n",
       "       0.06953101, 0.07013198, 0.07231439, 0.06804287, 0.02206483,\n",
       "       0.02532633, 0.02370036, 0.02648611, 0.02544476, 0.02168272,\n",
       "       0.0298544 , 0.02073914, 0.02946154, 0.02495189, 0.02643805,\n",
       "       0.03001359, 0.02307473, 0.02476856, 0.0339333 , 0.0355251 ,\n",
       "       0.01724024, 0.02413258, 0.02186172, 0.02738926, 0.02204903,\n",
       "       0.02240873, 0.02063835, 0.02237446, 0.02567006, 0.02601215,\n",
       "       0.02587077, 0.03112798, 0.03222675, 0.02348538, 0.02441804,\n",
       "       0.02455489, 0.02617753, 0.03047355, 0.02480374, 0.02946379,\n",
       "       0.03383916, 0.0268438 , 0.03200651, 0.0282614 ])"
      ]
     },
     "execution_count": 5,
     "metadata": {},
     "output_type": "execute_result"
    }
   ],
   "source": [
    "importances = mutual_info_classif(X_,y)\n",
    "importances"
   ]
  },
  {
   "cell_type": "code",
   "execution_count": 51,
   "metadata": {},
   "outputs": [
    {
     "data": {
      "text/plain": [
       "array([ 0.07161997,  0.04500658,  0.03525487,  0.03044038,  0.02012657,\n",
       "        0.01526541, -0.00049068, -0.03283669, -0.03431856,  0.00209218,\n",
       "        0.00631759,  0.00836838,  0.00962376,  0.02128019,  0.02751311,\n",
       "        0.03352488,  0.03974742,  0.03965518,  0.03960341,  0.03959937,\n",
       "        0.03978104,  0.03979432,  0.0398534 ,  0.03981814,  0.08636419,\n",
       "        0.09753506,  0.10110705,  0.10148161,  0.09234008,  0.09545535,\n",
       "        0.09449354,  0.0976656 ,  0.09904364,  0.08076788,  0.07099866,\n",
       "        0.09352588,  0.07042013,  0.08250609,  0.09342694,  0.08061127,\n",
       "        0.09904364,  0.08076788,  0.07099866,  0.09352588,  0.07042013,\n",
       "        0.08250609,  0.09342694,  0.08061127,  0.07948927,  0.05781548,\n",
       "        0.05756455,  0.05084421,  0.04744092,  0.03368003,  0.02003427,\n",
       "        0.01365757, -0.03899826, -0.03300639, -0.03448631, -0.03423137,\n",
       "       -0.03482228, -0.0360247 , -0.03373639, -0.03122846,  0.06386488,\n",
       "        0.06991783,  0.04363855,  0.05558573,  0.0553377 ,  0.06385541,\n",
       "        0.07390943,  0.08898632,  0.06550545,  0.05532749,  0.04039652,\n",
       "        0.02604093,  0.0122139 , -0.00681493, -0.0384897 , -0.06008947,\n",
       "        0.08794716,  0.10256572,  0.11099821,  0.10642679,  0.09904559,\n",
       "        0.09094979,  0.06977682,  0.05840273,  0.0939905 ,  0.1142562 ,\n",
       "        0.13112136,  0.12529343,  0.11714962,  0.10668644,  0.09122559,\n",
       "        0.08505235, -0.01497685,  0.01361592,  0.04501745,  0.06561686,\n",
       "        0.08602407,  0.08607448,  0.08758679,  0.08965436])"
      ]
     },
     "execution_count": 51,
     "metadata": {},
     "output_type": "execute_result"
    }
   ],
   "source": [
    "from sklearn.feature_selection import r_regression\n",
    "\n",
    "\n",
    "importances = r_regression(X_,y)\n",
    "importances"
   ]
  },
  {
   "cell_type": "code",
   "execution_count": 56,
   "metadata": {},
   "outputs": [],
   "source": [
    "from sklearn.feature_selection import chi2\n",
    "\n",
    "\n",
    "X_ = abs(X_)\n",
    "importances = chi2(X_,y)\n",
    "importances = importances[0]"
   ]
  },
  {
   "cell_type": "code",
   "execution_count": 61,
   "metadata": {},
   "outputs": [],
   "source": [
    "from sklearn.feature_selection import f_classif\n",
    "\n",
    "\n",
    "importances = f_classif(X_,y)\n",
    "importances = importances[0]"
   ]
  },
  {
   "cell_type": "code",
   "execution_count": 62,
   "metadata": {},
   "outputs": [
    {
     "data": {
      "text/html": [
       "<div>\n",
       "<style scoped>\n",
       "    .dataframe tbody tr th:only-of-type {\n",
       "        vertical-align: middle;\n",
       "    }\n",
       "\n",
       "    .dataframe tbody tr th {\n",
       "        vertical-align: top;\n",
       "    }\n",
       "\n",
       "    .dataframe thead th {\n",
       "        text-align: right;\n",
       "    }\n",
       "</style>\n",
       "<table border=\"1\" class=\"dataframe\">\n",
       "  <thead>\n",
       "    <tr style=\"text-align: right;\">\n",
       "      <th></th>\n",
       "      <th>variable</th>\n",
       "      <th>importances</th>\n",
       "    </tr>\n",
       "  </thead>\n",
       "  <tbody>\n",
       "    <tr>\n",
       "      <th>1</th>\n",
       "      <td>NDVI</td>\n",
       "      <td>4.783548</td>\n",
       "    </tr>\n",
       "    <tr>\n",
       "      <th>5</th>\n",
       "      <td>RootMoist_inst</td>\n",
       "      <td>12.347156</td>\n",
       "    </tr>\n",
       "    <tr>\n",
       "      <th>0</th>\n",
       "      <td>LST_Day_1km</td>\n",
       "      <td>14.234764</td>\n",
       "    </tr>\n",
       "    <tr>\n",
       "      <th>2</th>\n",
       "      <td>Psurf_f_inst</td>\n",
       "      <td>16.256865</td>\n",
       "    </tr>\n",
       "    <tr>\n",
       "      <th>9</th>\n",
       "      <td>srad</td>\n",
       "      <td>19.273936</td>\n",
       "    </tr>\n",
       "    <tr>\n",
       "      <th>7</th>\n",
       "      <td>Wind_f_inst</td>\n",
       "      <td>25.201874</td>\n",
       "    </tr>\n",
       "    <tr>\n",
       "      <th>8</th>\n",
       "      <td>prcp</td>\n",
       "      <td>44.540985</td>\n",
       "    </tr>\n",
       "    <tr>\n",
       "      <th>12</th>\n",
       "      <td>vp</td>\n",
       "      <td>48.219851</td>\n",
       "    </tr>\n",
       "    <tr>\n",
       "      <th>4</th>\n",
       "      <td>Rainf_tavg</td>\n",
       "      <td>73.962908</td>\n",
       "    </tr>\n",
       "    <tr>\n",
       "      <th>6</th>\n",
       "      <td>Tair_f_inst</td>\n",
       "      <td>73.962908</td>\n",
       "    </tr>\n",
       "    <tr>\n",
       "      <th>10</th>\n",
       "      <td>tmax</td>\n",
       "      <td>88.580119</td>\n",
       "    </tr>\n",
       "    <tr>\n",
       "      <th>3</th>\n",
       "      <td>Qair_f_inst</td>\n",
       "      <td>95.479447</td>\n",
       "    </tr>\n",
       "    <tr>\n",
       "      <th>11</th>\n",
       "      <td>tmin</td>\n",
       "      <td>124.269659</td>\n",
       "    </tr>\n",
       "  </tbody>\n",
       "</table>\n",
       "</div>"
      ],
      "text/plain": [
       "          variable  importances\n",
       "1             NDVI     4.783548\n",
       "5   RootMoist_inst    12.347156\n",
       "0      LST_Day_1km    14.234764\n",
       "2     Psurf_f_inst    16.256865\n",
       "9             srad    19.273936\n",
       "7      Wind_f_inst    25.201874\n",
       "8             prcp    44.540985\n",
       "12              vp    48.219851\n",
       "4       Rainf_tavg    73.962908\n",
       "6      Tair_f_inst    73.962908\n",
       "10            tmax    88.580119\n",
       "3      Qair_f_inst    95.479447\n",
       "11            tmin   124.269659"
      ]
     },
     "execution_count": 62,
     "metadata": {},
     "output_type": "execute_result"
    }
   ],
   "source": [
    "\n",
    "feat_importances_ = pd.DataFrame()\n",
    "feat_importances_['importances'] = importances\n",
    "feat_importances_['columns'] =  X.columns\n",
    "feat_importances_['variable'] =  feat_importances_.apply(lambda x: x['columns'][:-2],axis = 1)\n",
    "#feat_importances = feat_importances.sort_values(ascending=False).head(20)\n",
    "#feat_importances = feat_importances[::-1]\n",
    "feat_importances__ = feat_importances_.groupby('variable').agg({'importances':'mean'}).reset_index().sort_values(by=['importances'], ascending=True)\n",
    "feat_importances__\n"
   ]
  },
  {
   "cell_type": "code",
   "execution_count": 63,
   "metadata": {},
   "outputs": [
    {
     "data": {
      "image/png": "[encoded data removed]",
      "text/plain": [
       "<Figure size 640x480 with 1 Axes>"
      ]
     },
     "metadata": {},
     "output_type": "display_data"
    }
   ],
   "source": [
    "feat_importances__.plot(x='variable', title='Fstat', kind='barh', color='teal')\n",
    "plt.show()"
   ]
  },
  {
   "cell_type": "code",
   "execution_count": null,
   "metadata": {},
   "outputs": [],
   "source": [
    "import seaborn as sns\n",
    "import matplotlib as plt\n",
    "sns.set(font_scale=0.5)\n",
    "\n",
    "def chart_var(name):\n",
    "    fig, axes = plt.pyplot.subplots(2, 4,  sharey=True)\n",
    "    fig.suptitle(name)\n",
    "    for i in range(1,9):\n",
    "        sns.distplot(X_[name+'_'+str(i)],ax=axes[(i-1)//4,(i-1)%4])\n",
    "\n",
    "def chart_boxplot(name):\n",
    "    fig, axes = plt.pyplot.subplots(2, 4,  sharey=True)\n",
    "    fig.suptitle(name)\n",
    "    for i in range(1,9):\n",
    "        sns.boxplot(data=dataset, \n",
    "                    x=\"Resultado\", \n",
    "                    y= name+'_'+str(i), \n",
    "                    hue=\"Resultado\",\n",
    "                    ax=axes[(i-1)//4,(i-1)%4])\n",
    "\n",
    "\n",
    "chart_boxplot('prcp')\n",
    "chart_boxplot('srad')\n",
    "chart_boxplot('tmax')\n",
    "chart_boxplot('tmin')\n",
    "chart_boxplot('vp')\n",
    "\n",
    "\n",
    "chart_boxplot('Psurf_f_inst')\n",
    "chart_boxplot('Qair_f_inst')\n",
    "chart_boxplot('Rainf_tavg')\n",
    "chart_boxplot('RootMoist_inst')\n",
    "chart_boxplot('Tair_f_inst')\n",
    "chart_boxplot('Wind_f_inst')\n",
    "\n",
    "chart_boxplot('NDVI')\n",
    "chart_boxplot('LST_Day_1km')\n",
    "\n",
    "\n"
   ]
  },
  {
   "cell_type": "code",
   "execution_count": null,
   "metadata": {},
   "outputs": [],
   "source": [
    "chart_boxplot('Wind_f_inst')\n",
    "chart_boxplot('vp')\n",
    "chart_boxplot('NDVI')\n",
    "chart_boxplot('srad')\n",
    "chart_boxplot('prcp')\n",
    "chart_boxplot('Lai')\n",
    "chart_boxplot('NDVI-d')\n",
    "chart_boxplot('LST_Day_1km')"
   ]
  },
  {
   "cell_type": "code",
   "execution_count": null,
   "metadata": {},
   "outputs": [],
   "source": [
    "chart_var('prcp')\n",
    "chart_var('srad')\n",
    "chart_var('tmax')\n",
    "chart_var('tmin')\n",
    "chart_var('vp')\n",
    "\n",
    "\n",
    "chart_var('Psurf_f_inst')\n",
    "chart_var('Qair_f_inst')\n",
    "chart_var('Rainf_tavg')\n",
    "chart_var('RootMoist_inst')\n",
    "chart_var('Tair_f_inst')\n",
    "chart_var('Wind_f_inst')\n",
    "\n",
    "chart_var('NDVI')\n",
    "chart_var('LST_Day_1km')\n"
   ]
  }
 ],
 "metadata": {
  "kernelspec": {
   "display_name": ".venv",
   "language": "python",
   "name": "python3"
  },
  "language_info": {
   "codemirror_mode": {
    "name": "ipython",
    "version": 3
   },
   "file_extension": ".py",
   "mimetype": "text/x-python",
   "name": "python",
   "nbconvert_exporter": "python",
   "pygments_lexer": "ipython3",
   "version": "3.11.9"
  }
 },
 "nbformat": 4,
 "nbformat_minor": 2
}
